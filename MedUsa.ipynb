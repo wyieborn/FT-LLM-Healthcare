{
 "cells": [
  {
   "cell_type": "code",
   "execution_count": 1,
   "id": "324f924a",
   "metadata": {},
   "outputs": [],
   "source": [
    "#local ollama instance\n",
    "#http://localhost:11434"
   ]
  },
  {
   "cell_type": "code",
   "execution_count": null,
   "id": "6fc8c38e",
   "metadata": {},
   "outputs": [],
   "source": [
    "# configure pretrained model using below\n",
    "\n",
    "# ollama create MedUsa -f modelfile\n"
   ]
  },
  {
   "cell_type": "code",
   "execution_count": 2,
   "id": "e0def774",
   "metadata": {},
   "outputs": [],
   "source": [
    "# !pip install spacy\n",
    "from langchain_community.llms import Ollama"
   ]
  },
  {
   "cell_type": "code",
   "execution_count": 2,
   "id": "a076aa8d",
   "metadata": {},
   "outputs": [],
   "source": [
    "from langchain.llms import Ollama\n"
   ]
  },
  {
   "cell_type": "code",
   "execution_count": 1,
   "id": "e37d63a8",
   "metadata": {},
   "outputs": [
    {
     "ename": "NameError",
     "evalue": "name 'Ollama' is not defined",
     "output_type": "error",
     "traceback": [
      "\u001b[1;31m---------------------------------------------------------------------------\u001b[0m",
      "\u001b[1;31mNameError\u001b[0m                                 Traceback (most recent call last)",
      "Cell \u001b[1;32mIn[1], line 1\u001b[0m\n\u001b[1;32m----> 1\u001b[0m ollama_model \u001b[38;5;241m=\u001b[39m \u001b[43mOllama\u001b[49m(base_url \u001b[38;5;241m=\u001b[39m \u001b[38;5;124m\"\u001b[39m\u001b[38;5;124mhttp://localhost:11434\u001b[39m\u001b[38;5;124m\"\u001b[39m,model\u001b[38;5;241m=\u001b[39m\u001b[38;5;124m\"\u001b[39m\u001b[38;5;124mmedusa\u001b[39m\u001b[38;5;124m\"\u001b[39m)\n",
      "\u001b[1;31mNameError\u001b[0m: name 'Ollama' is not defined"
     ]
    }
   ],
   "source": [
    "ollama_model = Ollama(base_url = \"http://localhost:11434\",model=\"medusa\")"
   ]
  },
  {
   "cell_type": "code",
   "execution_count": 5,
   "id": "2cb61536",
   "metadata": {},
   "outputs": [],
   "source": [
    "llama3 = Ollama(model='medusa')"
   ]
  },
  {
   "cell_type": "code",
   "execution_count": 4,
   "id": "38d210c1",
   "metadata": {},
   "outputs": [
    {
     "name": "stderr",
     "output_type": "stream",
     "text": [
      "C:\\Users\\wyieb\\AppData\\Roaming\\Python\\Python38\\site-packages\\langchain_core\\_api\\deprecation.py:119: LangChainDeprecationWarning: The method `BaseLLM.__call__` was deprecated in langchain-core 0.1.7 and will be removed in 0.3.0. Use invoke instead.\n",
      "  warn_deprecated(\n"
     ]
    },
    {
     "name": "stdout",
     "output_type": "stream",
     "text": [
      "Hi there! It's nice to meet you. Is there something I can help you with or would you like to chat?\n"
     ]
    }
   ],
   "source": [
    "print(llama3(\"hi there\"))"
   ]
  },
  {
   "cell_type": "code",
   "execution_count": 7,
   "id": "5ae09498",
   "metadata": {},
   "outputs": [],
   "source": [
    "import getpass\n",
    "import os\n",
    "\n",
    "os.environ[\"LANGCHAIN_TRACING_V2\"] = \"true\"\n",
    "os.environ[\"LANGCHAIN_ENDPOINT\"]=\"https://api.smith.langchain.com\"\n",
    "os.environ[\"LANGCHAIN_API_KEY\"] = \"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\"#\"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\"\n",
    "project_name = \"capstone\""
   ]
  },
  {
   "cell_type": "code",
   "execution_count": 8,
   "id": "69f48a6b",
   "metadata": {},
   "outputs": [
    {
     "name": "stdout",
     "output_type": "stream",
     "text": [
      "Hello there! Welcome to MedUsa, your trusted medical assistant. How can I help you today? Would you like to schedule an appointment or get some information on a specific health topic? Let me know and I'll do my best to assist you!\n"
     ]
    }
   ],
   "source": [
    "# print(ollama_model(\"hello\"))"
   ]
  },
  {
   "cell_type": "code",
   "execution_count": 6,
   "id": "ed0eec3d",
   "metadata": {},
   "outputs": [
    {
     "name": "stdout",
     "output_type": "stream",
     "text": [
      "I'm so sorry to hear that you're not feeling well. As a Medical Assistant, I'm here to help you feel better. Can you please tell me more about what's been going on? What are some of the symptoms you're experiencing?\n",
      "\n",
      "Is it:\n",
      "\n",
      "* A headache or body ache?\n",
      "* Fever or chills?\n",
      "* Nausea or stomach issues?\n",
      "* Fatigue or exhaustion?\n",
      "* Something else?\n",
      "\n",
      "Also, have you had any recent illnesses, allergies, or medications that might be related to how you're feeling?\n"
     ]
    }
   ],
   "source": [
    "print(llama3(\"hi , i think i am not feeling well\"))"
   ]
  },
  {
   "cell_type": "code",
   "execution_count": null,
   "id": "309cf5b0",
   "metadata": {},
   "outputs": [],
   "source": []
  },
  {
   "cell_type": "code",
   "execution_count": 20,
   "id": "fbe41016",
   "metadata": {},
   "outputs": [
    {
     "data": {
      "text/plain": [
       "<Response [202]>"
      ]
     },
     "execution_count": 20,
     "metadata": {},
     "output_type": "execute_result"
    }
   ],
   "source": [
    "import datetime\n",
    "import uuid\n",
    "\n",
    "import requests\n",
    "\n",
    "_LANGSMITH_API_KEY = os.environ[\"LANGCHAIN_API_KEY\"]\n",
    "\n",
    "run_id = str(uuid.uuid4())\n",
    "\n",
    "res = requests.post(\n",
    "    \"https://api.smith.langchain.com/runs\",\n",
    "    json={\n",
    "        \"id\": run_id,\n",
    "        \"name\": \"MyFirstRun\",\n",
    "        \"run_type\": \"chain\",\n",
    "        \"start_time\": datetime.datetime.utcnow().isoformat(),\n",
    "        \"inputs\": {\"text\": \"Foo\"},\n",
    "    },\n",
    "    headers={\"x-api-key\": _LANGSMITH_API_KEY},\n",
    ")\n",
    "\n",
    "# ... do some work ...\n",
    "\n",
    "requests.patch(\n",
    "    f\"https://api.smith.langchain.com/runs/{run_id}\",\n",
    "    json={\n",
    "        \"outputs\": {\"my_output\": \"Bar\"},\n",
    "        \"end_time\": datetime.datetime.utcnow().isoformat(),\n",
    "    },\n",
    "    headers={\"x-api-key\": _LANGSMITH_API_KEY},\n",
    ")"
   ]
  },
  {
   "cell_type": "code",
   "execution_count": null,
   "id": "e7004910",
   "metadata": {},
   "outputs": [],
   "source": []
  },
  {
   "cell_type": "code",
   "execution_count": null,
   "id": "6a6cd3d4",
   "metadata": {},
   "outputs": [],
   "source": []
  },
  {
   "cell_type": "code",
   "execution_count": null,
   "id": "7abda9a9",
   "metadata": {},
   "outputs": [],
   "source": []
  },
  {
   "cell_type": "code",
   "execution_count": 21,
   "id": "598e9905",
   "metadata": {},
   "outputs": [],
   "source": [
    "import platform\n",
    "\n",
    "run_id = str(uuid.uuid4())\n",
    "\n",
    "requests.post(\n",
    "    \"https://api.smith.langchain.com/runs\",\n",
    "    json={\n",
    "        \"id\": run_id,\n",
    "        \"name\": \"MyThirdRun\",\n",
    "        \"run_type\": \"chain\",\n",
    "        \"inputs\": {\"text\": \"Foo\"},\n",
    "        \"start_time\": datetime.datetime.utcnow().isoformat(),\n",
    "        \"session_name\": project_name,\n",
    "        \"tags\": [\"langsmith\", \"rest\", \"my-example\"],\n",
    "        \"extra\": {\n",
    "            \"metadata\": {\"my_key\": \"My value\"},\n",
    "            \"runtime\": {\n",
    "                \"platform\": platform.platform(),\n",
    "            },\n",
    "        },\n",
    "    },\n",
    "    headers={\"x-api-key\": _LANGSMITH_API_KEY},\n",
    ")\n",
    "# ... do some work ...\n",
    "events = []\n",
    "# Events like new tokens and retries can be added\n",
    "events.append({\"event_name\": \"retry\", \"reason\": \"never gonna give you up\"})\n",
    "events.append({\"event_name\": \"new_token\", \"value\": \"foo\"})\n",
    "\n",
    "res = requests.patch(\n",
    "    f\"https://api.smith.langchain.com/runs/{run_id}\",\n",
    "    json={\n",
    "        \"end_time\": datetime.datetime.utcnow().isoformat(),\n",
    "        \"outputs\": {\"generated\": \"Bar\"},\n",
    "        \"events\": events,\n",
    "    },\n",
    "    headers={\"x-api-key\": _LANGSMITH_API_KEY},\n",
    ")"
   ]
  },
  {
   "cell_type": "code",
   "execution_count": 22,
   "id": "c6410603",
   "metadata": {},
   "outputs": [
    {
     "data": {
      "text/plain": [
       "<Response [202]>"
      ]
     },
     "execution_count": 22,
     "metadata": {},
     "output_type": "execute_result"
    }
   ],
   "source": [
    "res"
   ]
  },
  {
   "cell_type": "code",
   "execution_count": null,
   "id": "2cba53cb",
   "metadata": {},
   "outputs": [],
   "source": []
  },
  {
   "cell_type": "code",
   "execution_count": 29,
   "id": "a5f89492",
   "metadata": {},
   "outputs": [
    {
     "name": "stderr",
     "output_type": "stream",
     "text": [
      "Failed to batch ingest runs: LangSmithError('Failed to POST https://api.smith.langchain.com/runs/batch in LangSmith API. HTTPError(\\'403 Client Error: Forbidden for url: https://api.smith.langchain.com/runs/batch\\', \\'{\"detail\":\"Forbidden\"}\\')')\n"
     ]
    },
    {
     "data": {
      "text/plain": [
       "'Ciao!'"
      ]
     },
     "execution_count": 29,
     "metadata": {},
     "output_type": "execute_result"
    },
    {
     "name": "stderr",
     "output_type": "stream",
     "text": [
      "Failed to batch ingest runs: LangSmithError('Failed to POST https://api.smith.langchain.com/runs/batch in LangSmith API. HTTPError(\\'403 Client Error: Forbidden for url: https://api.smith.langchain.com/runs/batch\\', \\'{\"detail\":\"Forbidden\"}\\')')\n"
     ]
    }
   ],
   "source": [
    "# from langchain_openai import ChatOpenAI\n",
    "\n",
    "model = ollama_model#Ollama(model=\"llama3\")\n",
    "\n",
    "\n",
    "from langchain_core.messages import HumanMessage, SystemMessage\n",
    "\n",
    "messages = [\n",
    "    SystemMessage(content=\"Translate the following from English into Italian\"),\n",
    "    HumanMessage(content=\"hi!\"),\n",
    "]\n",
    "\n",
    "model.invoke(messages)"
   ]
  },
  {
   "cell_type": "code",
   "execution_count": 30,
   "id": "62e91897",
   "metadata": {},
   "outputs": [
    {
     "name": "stderr",
     "output_type": "stream",
     "text": [
      "Failed to batch ingest runs: LangSmithError('Failed to POST https://api.smith.langchain.com/runs/batch in LangSmith API. HTTPError(\\'403 Client Error: Forbidden for url: https://api.smith.langchain.com/runs/batch\\', \\'{\"detail\":\"Forbidden\"}\\')')\n"
     ]
    },
    {
     "data": {
      "text/plain": [
       "'System: Ciao!'"
      ]
     },
     "execution_count": 30,
     "metadata": {},
     "output_type": "execute_result"
    },
    {
     "name": "stderr",
     "output_type": "stream",
     "text": [
      "Failed to batch ingest runs: LangSmithError('Failed to POST https://api.smith.langchain.com/runs/batch in LangSmith API. HTTPError(\\'403 Client Error: Forbidden for url: https://api.smith.langchain.com/runs/batch\\', \\'{\"detail\":\"Forbidden\"}\\')')\n"
     ]
    }
   ],
   "source": [
    "from langchain_core.output_parsers import StrOutputParser\n",
    "\n",
    "parser = StrOutputParser()\n",
    "result = model.invoke(messages)\n",
    "\n",
    "parser.invoke(result)"
   ]
  },
  {
   "cell_type": "code",
   "execution_count": 5,
   "id": "4e234271",
   "metadata": {},
   "outputs": [],
   "source": [
    "# import spacy\n",
    "\n",
    "# # Load the spaCy model\n",
    "# nlp = spacy.load(\"en_core_web_sm\")\n",
    "\n",
    "# # Example patient statements\n",
    "# patient_statements = [\n",
    "#     \"I have a severe headache and feel nauseous.\",\n",
    "#     \"My throat is sore and I have been coughing a lot.\",\n",
    "#     \"I've been feeling very tired and weak for the past few days.\",\n",
    "#     \"I have a rash on my arm that's really itchy.\",\n",
    "#     \"My stomach hurts and I've been having diarrhea.\"\n",
    "# ]\n",
    "\n",
    "# # Function to extract symptoms\n",
    "# def extract_symptoms(statements):\n",
    "#     symptoms = []\n",
    "#     for statement in statements:\n",
    "#         doc = nlp(statement)\n",
    "#         for ent in doc.ents:\n",
    "#             if ent.label_ == \"SYMPTOM\":\n",
    "#                 symptoms.append(ent.text)\n",
    "#     return symptoms\n",
    "\n",
    "# # Since spaCy's default model doesn't have a SYMPTOM label, we need to define our own rules\n",
    "# def extract_symptoms_custom(statements):\n",
    "#     symptoms = []\n",
    "#     for statement in statements:\n",
    "#         doc = nlp(statement)\n",
    "#         for token in doc:\n",
    "#             if token.dep_ == \"amod\" and token.head.pos_ == \"NOUN\":  # Adjectival modifier to a noun\n",
    "#                 symptoms.append(token.text + \" \" + token.head.text)\n",
    "#             elif token.pos_ == \"NOUN\" and token.dep_ in [\"nsubj\", \"dobj\"]:  # Noun as subject or object\n",
    "#                 symptoms.append(token.text)\n",
    "#     return symptoms\n",
    "\n",
    "# # Extract symptoms\n",
    "# extracted_symptoms = extract_symptoms_custom(patient_statements)\n",
    "# print(\"Extracted Symptoms:\", extracted_symptoms)\n"
   ]
  },
  {
   "cell_type": "code",
   "execution_count": 63,
   "id": "4dbf8d5f",
   "metadata": {},
   "outputs": [],
   "source": []
  },
  {
   "cell_type": "code",
   "execution_count": 67,
   "id": "6f710a7a",
   "metadata": {},
   "outputs": [
    {
     "data": {
      "text/plain": [
       "FFNN(\n",
       "  (fc1): Linear(in_features=1000, out_features=64, bias=True)\n",
       "  (fc2): Linear(in_features=64, out_features=64, bias=True)\n",
       "  (fc3): Linear(in_features=64, out_features=10, bias=True)\n",
       "  (relu): ReLU()\n",
       "  (softmax): Softmax(dim=1)\n",
       ")"
      ]
     },
     "execution_count": 67,
     "metadata": {},
     "output_type": "execute_result"
    }
   ],
   "source": []
  },
  {
   "cell_type": "code",
   "execution_count": 71,
   "id": "9672fb65",
   "metadata": {},
   "outputs": [
    {
     "data": {
      "text/plain": [
       "torch.Size([1, 10])"
      ]
     },
     "execution_count": 71,
     "metadata": {},
     "output_type": "execute_result"
    }
   ],
   "source": []
  },
  {
   "cell_type": "code",
   "execution_count": 49,
   "id": "8930c6c3",
   "metadata": {},
   "outputs": [
    {
     "name": "stdout",
     "output_type": "stream",
     "text": [
      "A's __init__\n",
      "C's __init__\n",
      "B's __init__\n",
      "D's __init__\n"
     ]
    }
   ],
   "source": []
  }
 ],
 "metadata": {
  "kernelspec": {
   "display_name": "Python 3 (ipykernel)",
   "language": "python",
   "name": "python3"
  },
  "language_info": {
   "codemirror_mode": {
    "name": "ipython",
    "version": 3
   },
   "file_extension": ".py",
   "mimetype": "text/x-python",
   "name": "python",
   "nbconvert_exporter": "python",
   "pygments_lexer": "ipython3",
   "version": "3.8.2"
  }
 },
 "nbformat": 4,
 "nbformat_minor": 5
}
