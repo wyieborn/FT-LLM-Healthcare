{
 "cells": [
  {
   "cell_type": "code",
   "execution_count": null,
   "id": "daf3a8aa",
   "metadata": {},
   "outputs": [],
   "source": [
    "import pandas as pd"
   ]
  },
  {
   "cell_type": "code",
   "execution_count": 49,
   "id": "4dfcacec",
   "metadata": {},
   "outputs": [],
   "source": [
    "#import data\n",
    "df = pd.read_csv('data\\\\Training.csv')\n"
   ]
  },
  {
   "cell_type": "code",
   "execution_count": 52,
   "id": "15f7f7a6",
   "metadata": {},
   "outputs": [
    {
     "data": {
      "text/html": [
       "<div>\n",
       "<style scoped>\n",
       "    .dataframe tbody tr th:only-of-type {\n",
       "        vertical-align: middle;\n",
       "    }\n",
       "\n",
       "    .dataframe tbody tr th {\n",
       "        vertical-align: top;\n",
       "    }\n",
       "\n",
       "    .dataframe thead th {\n",
       "        text-align: right;\n",
       "    }\n",
       "</style>\n",
       "<table border=\"1\" class=\"dataframe\">\n",
       "  <thead>\n",
       "    <tr style=\"text-align: right;\">\n",
       "      <th></th>\n",
       "      <th>itching</th>\n",
       "      <th>skin_rash</th>\n",
       "      <th>nodal_skin_eruptions</th>\n",
       "      <th>continuous_sneezing</th>\n",
       "      <th>shivering</th>\n",
       "      <th>chills</th>\n",
       "      <th>joint_pain</th>\n",
       "      <th>stomach_pain</th>\n",
       "      <th>acidity</th>\n",
       "      <th>ulcers_on_tongue</th>\n",
       "      <th>...</th>\n",
       "      <th>blackheads</th>\n",
       "      <th>scurring</th>\n",
       "      <th>skin_peeling</th>\n",
       "      <th>silver_like_dusting</th>\n",
       "      <th>small_dents_in_nails</th>\n",
       "      <th>inflammatory_nails</th>\n",
       "      <th>blister</th>\n",
       "      <th>red_sore_around_nose</th>\n",
       "      <th>yellow_crust_ooze</th>\n",
       "      <th>prognosis</th>\n",
       "    </tr>\n",
       "  </thead>\n",
       "  <tbody>\n",
       "    <tr>\n",
       "      <th>0</th>\n",
       "      <td>1</td>\n",
       "      <td>1</td>\n",
       "      <td>1</td>\n",
       "      <td>0</td>\n",
       "      <td>0</td>\n",
       "      <td>0</td>\n",
       "      <td>0</td>\n",
       "      <td>0</td>\n",
       "      <td>0</td>\n",
       "      <td>0</td>\n",
       "      <td>...</td>\n",
       "      <td>0</td>\n",
       "      <td>0</td>\n",
       "      <td>0</td>\n",
       "      <td>0</td>\n",
       "      <td>0</td>\n",
       "      <td>0</td>\n",
       "      <td>0</td>\n",
       "      <td>0</td>\n",
       "      <td>0</td>\n",
       "      <td>Fungal infection</td>\n",
       "    </tr>\n",
       "    <tr>\n",
       "      <th>1</th>\n",
       "      <td>0</td>\n",
       "      <td>1</td>\n",
       "      <td>1</td>\n",
       "      <td>0</td>\n",
       "      <td>0</td>\n",
       "      <td>0</td>\n",
       "      <td>0</td>\n",
       "      <td>0</td>\n",
       "      <td>0</td>\n",
       "      <td>0</td>\n",
       "      <td>...</td>\n",
       "      <td>0</td>\n",
       "      <td>0</td>\n",
       "      <td>0</td>\n",
       "      <td>0</td>\n",
       "      <td>0</td>\n",
       "      <td>0</td>\n",
       "      <td>0</td>\n",
       "      <td>0</td>\n",
       "      <td>0</td>\n",
       "      <td>Fungal infection</td>\n",
       "    </tr>\n",
       "    <tr>\n",
       "      <th>2</th>\n",
       "      <td>1</td>\n",
       "      <td>0</td>\n",
       "      <td>1</td>\n",
       "      <td>0</td>\n",
       "      <td>0</td>\n",
       "      <td>0</td>\n",
       "      <td>0</td>\n",
       "      <td>0</td>\n",
       "      <td>0</td>\n",
       "      <td>0</td>\n",
       "      <td>...</td>\n",
       "      <td>0</td>\n",
       "      <td>0</td>\n",
       "      <td>0</td>\n",
       "      <td>0</td>\n",
       "      <td>0</td>\n",
       "      <td>0</td>\n",
       "      <td>0</td>\n",
       "      <td>0</td>\n",
       "      <td>0</td>\n",
       "      <td>Fungal infection</td>\n",
       "    </tr>\n",
       "    <tr>\n",
       "      <th>3</th>\n",
       "      <td>1</td>\n",
       "      <td>1</td>\n",
       "      <td>0</td>\n",
       "      <td>0</td>\n",
       "      <td>0</td>\n",
       "      <td>0</td>\n",
       "      <td>0</td>\n",
       "      <td>0</td>\n",
       "      <td>0</td>\n",
       "      <td>0</td>\n",
       "      <td>...</td>\n",
       "      <td>0</td>\n",
       "      <td>0</td>\n",
       "      <td>0</td>\n",
       "      <td>0</td>\n",
       "      <td>0</td>\n",
       "      <td>0</td>\n",
       "      <td>0</td>\n",
       "      <td>0</td>\n",
       "      <td>0</td>\n",
       "      <td>Fungal infection</td>\n",
       "    </tr>\n",
       "    <tr>\n",
       "      <th>4</th>\n",
       "      <td>1</td>\n",
       "      <td>1</td>\n",
       "      <td>1</td>\n",
       "      <td>0</td>\n",
       "      <td>0</td>\n",
       "      <td>0</td>\n",
       "      <td>0</td>\n",
       "      <td>0</td>\n",
       "      <td>0</td>\n",
       "      <td>0</td>\n",
       "      <td>...</td>\n",
       "      <td>0</td>\n",
       "      <td>0</td>\n",
       "      <td>0</td>\n",
       "      <td>0</td>\n",
       "      <td>0</td>\n",
       "      <td>0</td>\n",
       "      <td>0</td>\n",
       "      <td>0</td>\n",
       "      <td>0</td>\n",
       "      <td>Fungal infection</td>\n",
       "    </tr>\n",
       "  </tbody>\n",
       "</table>\n",
       "<p>5 rows × 133 columns</p>\n",
       "</div>"
      ],
      "text/plain": [
       "   itching  skin_rash  nodal_skin_eruptions  continuous_sneezing  shivering  \\\n",
       "0        1          1                     1                    0          0   \n",
       "1        0          1                     1                    0          0   \n",
       "2        1          0                     1                    0          0   \n",
       "3        1          1                     0                    0          0   \n",
       "4        1          1                     1                    0          0   \n",
       "\n",
       "   chills  joint_pain  stomach_pain  acidity  ulcers_on_tongue  ...  \\\n",
       "0       0           0             0        0                 0  ...   \n",
       "1       0           0             0        0                 0  ...   \n",
       "2       0           0             0        0                 0  ...   \n",
       "3       0           0             0        0                 0  ...   \n",
       "4       0           0             0        0                 0  ...   \n",
       "\n",
       "   blackheads  scurring  skin_peeling  silver_like_dusting  \\\n",
       "0           0         0             0                    0   \n",
       "1           0         0             0                    0   \n",
       "2           0         0             0                    0   \n",
       "3           0         0             0                    0   \n",
       "4           0         0             0                    0   \n",
       "\n",
       "   small_dents_in_nails  inflammatory_nails  blister  red_sore_around_nose  \\\n",
       "0                     0                   0        0                     0   \n",
       "1                     0                   0        0                     0   \n",
       "2                     0                   0        0                     0   \n",
       "3                     0                   0        0                     0   \n",
       "4                     0                   0        0                     0   \n",
       "\n",
       "   yellow_crust_ooze         prognosis  \n",
       "0                  0  Fungal infection  \n",
       "1                  0  Fungal infection  \n",
       "2                  0  Fungal infection  \n",
       "3                  0  Fungal infection  \n",
       "4                  0  Fungal infection  \n",
       "\n",
       "[5 rows x 133 columns]"
      ]
     },
     "execution_count": 52,
     "metadata": {},
     "output_type": "execute_result"
    }
   ],
   "source": [
    "df.head()"
   ]
  },
  {
   "cell_type": "code",
   "execution_count": 51,
   "id": "350cc213",
   "metadata": {},
   "outputs": [],
   "source": [
    "df = df.loc[:, ~df.columns.str.contains('^Unnamed')]\n"
   ]
  },
  {
   "cell_type": "code",
   "execution_count": 165,
   "id": "d589d176",
   "metadata": {},
   "outputs": [],
   "source": [
    "#train test split\n",
    "from sklearn.preprocessing import LabelEncoder\n",
    "from sklearn.model_selection import train_test_split\n",
    "\n",
    "\n",
    "X = df.iloc[:,:-1].values\n",
    "y = df.iloc[:,-1].values\n",
    "\n",
    "le = LabelEncoder()\n",
    "y_encoded = le.fit_transform(y)\n",
    "\n",
    "xtrain, xtest, ytrain, ytest = train_test_split(X, y_encoded , test_size = 0.4, random_state = 12)"
   ]
  },
  {
   "cell_type": "code",
   "execution_count": 183,
   "id": "6769a616",
   "metadata": {},
   "outputs": [],
   "source": [
    "#convert to tensors\n",
    "xtrain_tensor = torch.tensor(xtrain, dtype = torch.float32)\n",
    "ytrain_tensor = torch.tensor(ytrain, dtype = torch.long)\n",
    "xtest_tensor = torch.tensor(xtest, dtype = torch.float32)\n",
    "ytest_tensor = torch.tensor(ytest, dtype = torch.long)\n"
   ]
  },
  {
   "cell_type": "code",
   "execution_count": 184,
   "id": "0012df8c",
   "metadata": {},
   "outputs": [],
   "source": [
    "# create torch tensor dataset and loader\n",
    "\n",
    "from torch.utils.data import DataLoader, TensorDataset\n",
    "\n",
    "train_ds = TensorDataset(xtrain_tensor, ytrain_tensor)\n",
    "test_ds = TensorDataset(xtest_tensor, ytest_tensor)\n",
    "\n",
    "train_loader = DataLoader(train_ds, batch_size = 32, shuffle = True)\n",
    "test_loader = DataLoader(test_ds , batch_size = 32 , shuffle = True)\n",
    "\n"
   ]
  },
  {
   "cell_type": "code",
   "execution_count": 168,
   "id": "a49dbb0c",
   "metadata": {},
   "outputs": [
    {
     "data": {
      "text/plain": [
       "(torch.Size([2952, 132]), torch.Size([2952]))"
      ]
     },
     "execution_count": 168,
     "metadata": {},
     "output_type": "execute_result"
    }
   ],
   "source": [
    "xtrain_tensor.shape, ytrain_tensor.shape"
   ]
  },
  {
   "cell_type": "code",
   "execution_count": 220,
   "id": "7a87c2e0",
   "metadata": {},
   "outputs": [],
   "source": [
    "import torch\n",
    "import torch.nn as nn\n",
    "\n",
    "class FFNN(nn.Module):\n",
    "    def __init__(self,input_size, output_size, hidden_size):\n",
    "        super(FFNN, self).__init__()\n",
    "        self.fc1 = nn.Linear(input_size, hidden_size, output_size)\n",
    "        self.fc2 = nn.Linear(hidden_size, hidden_size)\n",
    "        self.fc3 = nn.Linear(hidden_size, output_size)\n",
    "        self.relu = nn.ReLU()\n",
    "        self.softmax = nn.Softmax(dim=1)\n",
    "        \n",
    "    def forward(self,x):\n",
    "        out1 = self.fc1(x)\n",
    "        out2 = self.relu(out1)\n",
    "        out3 = self.fc2(out2)\n",
    "        out4 = self.fc3(out3)\n",
    "        out = self.softmax(out4)\n",
    "        \n",
    "        return out\n",
    "        \n",
    "\n",
    "    \n",
    "    "
   ]
  },
  {
   "cell_type": "code",
   "execution_count": 58,
   "id": "5ab4181e",
   "metadata": {},
   "outputs": [
    {
     "data": {
      "text/plain": [
       "41"
      ]
     },
     "execution_count": 58,
     "metadata": {},
     "output_type": "execute_result"
    }
   ],
   "source": [
    "len(le.classes_)"
   ]
  },
  {
   "cell_type": "code",
   "execution_count": 221,
   "id": "aea57061",
   "metadata": {},
   "outputs": [
    {
     "data": {
      "text/plain": [
       "FFNN(\n",
       "  (fc1): Linear(in_features=132, out_features=64, bias=True)\n",
       "  (fc2): Linear(in_features=64, out_features=64, bias=True)\n",
       "  (fc3): Linear(in_features=64, out_features=41, bias=True)\n",
       "  (relu): ReLU()\n",
       "  (softmax): Softmax(dim=1)\n",
       ")"
      ]
     },
     "execution_count": 221,
     "metadata": {},
     "output_type": "execute_result"
    }
   ],
   "source": [
    "input_s = xtrain.shape[1]\n",
    "output_s = len(le.classes_)\n",
    "hidden_layers = 64\n",
    "model = FFNN(input_s,output_s,hidden_layers)\n",
    "model"
   ]
  },
  {
   "cell_type": "code",
   "execution_count": 68,
   "id": "d7e3e4cc",
   "metadata": {},
   "outputs": [
    {
     "data": {
      "text/plain": [
       "torch.Size([1, 41])"
      ]
     },
     "execution_count": 68,
     "metadata": {},
     "output_type": "execute_result"
    }
   ],
   "source": [
    "input1 = torch.rand((1,132))\n",
    "output = model(input1)\n",
    "output.shape"
   ]
  },
  {
   "cell_type": "code",
   "execution_count": 222,
   "id": "260bdcd3",
   "metadata": {},
   "outputs": [],
   "source": [
    "# define loss function, optimizers etc\n",
    "\n",
    "criterion = nn.CrossEntropyLoss()\n",
    "optimizer = torch.optim.Adam(model.parameters(), lr = 0.001)\n",
    "\n",
    "# # learning rate scheduler\n",
    "# scheduler = torch.optim.lr_scheduler.StepLR(optimizer, step_size=10, gamma=0.1)\n",
    "\n",
    "# Log the learning rate\n",
    "# learning_rates = []"
   ]
  },
  {
   "cell_type": "code",
   "execution_count": null,
   "id": "fdf43f1a",
   "metadata": {},
   "outputs": [],
   "source": []
  },
  {
   "cell_type": "code",
   "execution_count": 223,
   "id": "f92df16d",
   "metadata": {},
   "outputs": [
    {
     "name": "stdout",
     "output_type": "stream",
     "text": [
      "Epoch [1/20], Loss: 3.6554\n",
      "Epoch [2/20], Loss: 3.1380\n",
      "Epoch [3/20], Loss: 2.7862\n",
      "Epoch [4/20], Loss: 2.7607\n",
      "Epoch [5/20], Loss: 2.7576\n",
      "Epoch [6/20], Loss: 2.7565\n",
      "Epoch [7/20], Loss: 2.7559\n",
      "Epoch [8/20], Loss: 2.7556\n",
      "Epoch [9/20], Loss: 2.7553\n",
      "Epoch [10/20], Loss: 2.7552\n",
      "Epoch [11/20], Loss: 2.7551\n",
      "Epoch [12/20], Loss: 2.7550\n",
      "Epoch [13/20], Loss: 2.7550\n",
      "Epoch [14/20], Loss: 2.7549\n",
      "Epoch [15/20], Loss: 2.7549\n",
      "Epoch [16/20], Loss: 2.7548\n",
      "Epoch [17/20], Loss: 2.7548\n",
      "Epoch [18/20], Loss: 2.7548\n",
      "Epoch [19/20], Loss: 2.7548\n",
      "Epoch [20/20], Loss: 2.7548\n"
     ]
    }
   ],
   "source": [
    "\n",
    "epochs = 20\n",
    "train_losses = []\n",
    "\n",
    "for epoch in range(epochs):\n",
    "    model.train()\n",
    "    epoch_loss = 0.0\n",
    "    \n",
    "    for inputs, labels in train_loader:\n",
    "        outputs = model(inputs)\n",
    "        loss = criterion(outputs, labels)\n",
    "        \n",
    "        optimizer.zero_grad()\n",
    "        loss.backward()\n",
    "        optimizer.step()\n",
    "        \n",
    "        epoch_loss += loss.item() * inputs.size(0)\n",
    "    \n",
    "    epoch_loss /= len(train_loader.dataset)\n",
    "    train_losses.append(epoch_loss)\n",
    "    \n",
    "    print(\"Epoch [{}/{}], Loss: {:.4f}\".format(epoch + 1, epochs, epoch_loss))\n"
   ]
  },
  {
   "cell_type": "code",
   "execution_count": 224,
   "id": "292fbcc3",
   "metadata": {},
   "outputs": [
    {
     "name": "stdout",
     "output_type": "stream",
     "text": [
      "Epoch [1/20], Test Loss: 2.7548\n",
      "Epoch [2/20], Test Loss: 2.7548\n",
      "Epoch [3/20], Test Loss: 2.7548\n",
      "Epoch [4/20], Test Loss: 2.7548\n",
      "Epoch [5/20], Test Loss: 2.7548\n",
      "Epoch [6/20], Test Loss: 2.7548\n",
      "Epoch [7/20], Test Loss: 2.7548\n",
      "Epoch [8/20], Test Loss: 2.7548\n",
      "Epoch [9/20], Test Loss: 2.7548\n",
      "Epoch [10/20], Test Loss: 2.7548\n",
      "Epoch [11/20], Test Loss: 2.7548\n",
      "Epoch [12/20], Test Loss: 2.7548\n",
      "Epoch [13/20], Test Loss: 2.7548\n",
      "Epoch [14/20], Test Loss: 2.7548\n",
      "Epoch [15/20], Test Loss: 2.7548\n",
      "Epoch [16/20], Test Loss: 2.7548\n",
      "Epoch [17/20], Test Loss: 2.7548\n",
      "Epoch [18/20], Test Loss: 2.7548\n",
      "Epoch [19/20], Test Loss: 2.7548\n",
      "Epoch [20/20], Test Loss: 2.7548\n"
     ]
    }
   ],
   "source": [
    "# Evaluation loop (for test data)\n",
    "\n",
    "test_losses = []\n",
    "epochs = 20\n",
    "for epoch in range(epochs):\n",
    "    model.eval()\n",
    "    test_loss = 0.0\n",
    "    with torch.no_grad():\n",
    "        for inputs, labels in test_loader:\n",
    "            outputs = model(inputs)\n",
    "            loss = criterion(outputs, labels)\n",
    "            test_loss += loss.item() * inputs.size(0)\n",
    "\n",
    "    test_loss /= len(test_loader.dataset)\n",
    "    test_losses.append(test_loss)\n",
    "\n",
    "    print(\"Epoch [{}/{}], Test Loss: {:.4f}\".format(epoch + 1, epochs, test_loss))"
   ]
  },
  {
   "cell_type": "code",
   "execution_count": 215,
   "id": "a5a8dd3d",
   "metadata": {},
   "outputs": [
    {
     "data": {
      "text/plain": [
       "[2.754755615218868]"
      ]
     },
     "execution_count": 215,
     "metadata": {},
     "output_type": "execute_result"
    }
   ],
   "source": [
    "test_losses"
   ]
  },
  {
   "cell_type": "code",
   "execution_count": 211,
   "id": "245973fd",
   "metadata": {},
   "outputs": [
    {
     "name": "stdout",
     "output_type": "stream",
     "text": [
      "Accuracy of the model on the test data: 100.00%\n"
     ]
    }
   ],
   "source": [
    "model.eval()\n",
    "with torch.no_grad():\n",
    "    correct = 0\n",
    "    total = 0\n",
    "    for inputs, labels in test_loader:\n",
    "        outputs = model(inputs)\n",
    "        _, predicted = torch.max(outputs.data, 1)\n",
    "        total += labels.size(0)\n",
    "        correct += (predicted == labels).sum().item()\n",
    "    \n",
    "    print(f'Accuracy of the model on the test data: {100 * correct / total:.2f}%')\n"
   ]
  },
  {
   "cell_type": "code",
   "execution_count": 219,
   "id": "7e56ed1b",
   "metadata": {},
   "outputs": [
    {
     "data": {
      "image/png": "[encoded data removed]",
      "text/plain": [
       "<Figure size 1000x600 with 1 Axes>"
      ]
     },
     "metadata": {},
     "output_type": "display_data"
    }
   ],
   "source": [
    "import matplotlib.pyplot as plt\n",
    "\n",
    "# Plot the learning curve\n",
    "plt.figure(figsize=(10, 6))\n",
    "plt.plot(range(1, epochs + 1), train_losses, label='Training Loss')\n",
    "plt.plot(range(1, epochs + 1), test_losses, label='Test Loss')\n",
    "plt.xlabel('Epoch')\n",
    "plt.ylabel('Loss')\n",
    "plt.title('Learning Curve')\n",
    "plt.legend()\n",
    "plt.grid(True)\n",
    "plt.show()\n"
   ]
  },
  {
   "cell_type": "code",
   "execution_count": null,
   "id": "1ea78bcf",
   "metadata": {},
   "outputs": [],
   "source": [
    "# epochs = 10\n",
    "# actuals = []\n",
    "\n",
    "# for i in range(epochs):\n",
    "#     model.train()\n",
    "#     for inputs, labels in train_loader:\n",
    "#         outputs = model(inputs)\n",
    "#         loss = criterion(outputs, labels)\n",
    "        \n",
    "#         optimizer.zero_grad()\n",
    "#         loss.backward()\n",
    "#         optimizer.step()\n",
    "        \n",
    "# #     # Log the learning rate\n",
    "# #     learning_rates.append(optimizer.param_groups[0]['lr'])\n",
    "    \n",
    "# #     # Step the learning rate scheduler\n",
    "# #     scheduler.step() \n",
    "\n",
    "# #     prediction = outputs.argmax(dim=1, keepdim=True)\n",
    "# #     actuals.extend(labels)\n",
    "# #     probabilities.extend(outputs.squeeze(-1).detach().numpy())\n",
    "\n",
    "#     print(\" Epoch [{}/{}], Loss : {}\".format(i+1,epochs, loss.item()))"
   ]
  },
  {
   "cell_type": "code",
   "execution_count": 89,
   "id": "4b3239cb",
   "metadata": {},
   "outputs": [
    {
     "data": {
      "image/png": "[encoded data removed]",
      "text/plain": [
       "<Figure size 640x480 with 1 Axes>"
      ]
     },
     "metadata": {},
     "output_type": "display_data"
    }
   ],
   "source": [
    "import matplotlib.pyplot as plt\n",
    "# Plot the learning rates\n",
    "plt.plot(range(1, epochs + 1), learning_rates, marker='o')\n",
    "plt.title('Learning Rate over Epochs')\n",
    "plt.xlabel('Epoch')\n",
    "plt.ylabel('Learning Rate')\n",
    "plt.grid(True)\n",
    "plt.show()\n"
   ]
  },
  {
   "cell_type": "code",
   "execution_count": 199,
   "id": "a073fb0c",
   "metadata": {},
   "outputs": [
    {
     "name": "stdout",
     "output_type": "stream",
     "text": [
      "Accuracy of the model on the test data: 100.00%\n"
     ]
    }
   ],
   "source": []
  },
  {
   "cell_type": "code",
   "execution_count": 105,
   "id": "4c2b65f4",
   "metadata": {},
   "outputs": [],
   "source": [
    "# from sklearn.metrics import roc_curve, auc\n",
    "\n",
    "# n_classes = y_pred.shape[1]  # Get number of classes\n",
    "\n",
    "# fpr = dict()\n",
    "# tpr = dict()\n",
    "# roc_auc = dict()\n",
    "\n",
    "# for i in range(len(xtrain)):\n",
    "#     # Separate class i labels from the rest\n",
    "#     y_true = y_test[:, i]\n",
    "#     y_score = y_pred[:, i]\n",
    "\n",
    "#     # Calculate ROC curve for class i vs rest\n",
    "#     fpr[i], tpr[i], _ = roc_curve(y_true, y_score)\n",
    "#     roc_auc[i] = auc(fpr[i], tpr[i])\n"
   ]
  },
  {
   "cell_type": "code",
   "execution_count": 117,
   "id": "6e1d8994",
   "metadata": {},
   "outputs": [],
   "source": [
    "probabilites = model(xtrain_tensor)\n",
    "y_score = probabilites.squeeze(-1).detach().numpy()\n",
    "# fpr, tpr, threshold = roc_curve(y_encoded, y_score)"
   ]
  },
  {
   "cell_type": "code",
   "execution_count": 140,
   "id": "6f6640cf",
   "metadata": {},
   "outputs": [
    {
     "data": {
      "text/plain": [
       "tensor([[3.9620e-14, 1.1440e-08, 2.5492e-19,  ..., 1.6941e-10, 4.0718e-11,\n",
       "         5.3803e-19],\n",
       "        [6.2591e-18, 2.2794e-17, 1.9202e-24,  ..., 1.2811e-17, 2.1321e-21,\n",
       "         1.8100e-20],\n",
       "        [4.1231e-13, 4.6214e-17, 3.1598e-21,  ..., 1.3396e-22, 3.8767e-21,\n",
       "         3.2978e-11],\n",
       "        ...,\n",
       "        [1.9302e-14, 6.3155e-13, 1.3982e-11,  ..., 1.9945e-11, 1.1436e-14,\n",
       "         9.2060e-11],\n",
       "        [7.1144e-19, 1.6301e-13, 4.3639e-13,  ..., 5.3873e-12, 3.6332e-14,\n",
       "         1.4710e-17],\n",
       "        [2.3943e-10, 8.2087e-15, 3.4761e-21,  ..., 2.2763e-09, 5.2139e-13,\n",
       "         1.4728e-23]], grad_fn=<SoftmaxBackward0>)"
      ]
     },
     "execution_count": 140,
     "metadata": {},
     "output_type": "execute_result"
    }
   ],
   "source": [
    "probabilites\n"
   ]
  },
  {
   "cell_type": "code",
   "execution_count": null,
   "id": "5446d286",
   "metadata": {},
   "outputs": [],
   "source": []
  },
  {
   "cell_type": "markdown",
   "id": "d5becb7e",
   "metadata": {},
   "source": [
    "Random Forest"
   ]
  },
  {
   "cell_type": "code",
   "execution_count": null,
   "id": "72dac3a2",
   "metadata": {},
   "outputs": [],
   "source": []
  },
  {
   "cell_type": "code",
   "execution_count": 157,
   "id": "0313684c",
   "metadata": {},
   "outputs": [
    {
     "data": {
      "image/png": "[encoded data removed]",
      "text/plain": [
       "<Figure size 1000x600 with 1 Axes>"
      ]
     },
     "metadata": {},
     "output_type": "display_data"
    }
   ],
   "source": [
    "import numpy as np\n",
    "import matplotlib.pyplot as plt\n",
    "from sklearn.ensemble import RandomForestClassifier\n",
    "from sklearn.metrics import accuracy_score\n",
    "from sklearn.model_selection import train_test_split\n",
    "\n",
    "# Assuming 'X' is your feature matrix and 'y' is your target vector\n",
    "\n",
    "# Split the data into train and test sets\n",
    "X_train, X_test, y_train, y_test = train_test_split(X, y, test_size=0.2, random_state=42)\n",
    "\n",
    "# Define a range of values for the number of trees and max depth\n",
    "n_estimators_values = [10, 50, 100, 200]\n",
    "max_depth_values = [None, 5, 10, 20]\n",
    "\n",
    "# Initialize lists to store the accuracies\n",
    "train_accuracies = []\n",
    "test_accuracies = []\n",
    "\n",
    "# Iterate over different values for number of trees and max depth\n",
    "for n_estimators in n_estimators_values:\n",
    "    for max_depth in max_depth_values:\n",
    "        # Initialize the Random Forest classifier\n",
    "        rf_classifier = RandomForestClassifier(n_estimators=n_estimators, max_depth=max_depth, random_state=42)\n",
    "        \n",
    "        # Train the classifier\n",
    "        rf_classifier.fit(X_train, y_train)\n",
    "        \n",
    "        # Make predictions on the train and test sets\n",
    "        y_train_pred = rf_classifier.predict(X_train)\n",
    "        y_test_pred = rf_classifier.predict(X_test)\n",
    "        \n",
    "        # Calculate accuracies\n",
    "        train_accuracy = accuracy_score(y_train, y_train_pred)\n",
    "        test_accuracy = accuracy_score(y_test, y_test_pred)\n",
    "        \n",
    "        # Append accuracies to the lists\n",
    "        train_accuracies.append(train_accuracy)\n",
    "        test_accuracies.append(test_accuracy)\n",
    "\n",
    "# Reshape the lists into arrays\n",
    "train_accuracies = np.array(train_accuracies).reshape(len(n_estimators_values), len(max_depth_values))\n",
    "test_accuracies = np.array(test_accuracies).reshape(len(n_estimators_values), len(max_depth_values))\n",
    "\n",
    "# Plot the learning curve\n",
    "plt.figure(figsize=(10, 6))\n",
    "for i, n_estimators in enumerate(n_estimators_values):\n",
    "    plt.plot(max_depth_values, train_accuracies[i], label='Train ({} trees)'.format(n_estimators))\n",
    "    plt.plot(max_depth_values, test_accuracies[i], label='Test ({} trees)'.format(n_estimators), linestyle='--')\n",
    "plt.xlabel('Max Depth')\n",
    "plt.ylabel('Accuracy')\n",
    "plt.title('Learning Curve for Random Forest')\n",
    "plt.legend()\n",
    "plt.grid(True)\n",
    "plt.show()\n"
   ]
  },
  {
   "cell_type": "markdown",
   "id": "a536eb01",
   "metadata": {},
   "source": [
    "CatBoost"
   ]
  },
  {
   "cell_type": "code",
   "execution_count": 161,
   "id": "a322822d",
   "metadata": {},
   "outputs": [
    {
     "name": "stdout",
     "output_type": "stream",
     "text": [
      "Accuracy: 0.9908536585365854\n"
     ]
    }
   ],
   "source": [
    "from catboost import CatBoostClassifier\n",
    "\n",
    "model = CatBoostClassifier(iterations=50, learning_rate=0.1, depth=2, loss_function='MultiClass', verbose=False)\n",
    "model.fit(xtrain, ytrain)\n",
    "\n",
    "predictions = model.predict(xtest)\n",
    "accuracy = accuracy_score(ytest, predictions)\n",
    "print(f\"Accuracy: {accuracy}\")"
   ]
  },
  {
   "cell_type": "code",
   "execution_count": 162,
   "id": "8580fb16",
   "metadata": {},
   "outputs": [
    {
     "data": {
      "text/plain": [
       "4616"
      ]
     },
     "execution_count": 162,
     "metadata": {},
     "output_type": "execute_result"
    }
   ],
   "source": [
    "df.duplicated().sum()"
   ]
  },
  {
   "cell_type": "code",
   "execution_count": 163,
   "id": "cc8a0cd5",
   "metadata": {},
   "outputs": [
    {
     "data": {
      "text/plain": [
       "4920"
      ]
     },
     "execution_count": 163,
     "metadata": {},
     "output_type": "execute_result"
    }
   ],
   "source": [
    "len(df) # oops"
   ]
  },
  {
   "cell_type": "code",
   "execution_count": null,
   "id": "694cb24d",
   "metadata": {},
   "outputs": [],
   "source": []
  },
  {
   "cell_type": "code",
   "execution_count": 3,
   "id": "d1bdb620",
   "metadata": {},
   "outputs": [
    {
     "name": "stdout",
     "output_type": "stream",
     "text": [
      "A's __init__\n",
      "C's __init__\n",
      "B's __init__\n",
      "D's __init__\n"
     ]
    }
   ],
   "source": [
    "class A:\n",
    "    def __init__(self):\n",
    "        print(\"A's __init__\")\n",
    "\n",
    "class B(A):\n",
    "    def __init__(self):\n",
    "        super().__init__()\n",
    "        print(\"B's __init__\")\n",
    "\n",
    "class C(A):\n",
    "    def __init__(self):\n",
    "        super().__init__()\n",
    "        print(\"C's __init__\")\n",
    "\n",
    "class D(B, C):\n",
    "    def __init__(self):\n",
    "        super().__init__()\n",
    "        print(\"D's __init__\")\n",
    "\n",
    "d = D()"
   ]
  }
 ],
 "metadata": {
  "kernelspec": {
   "display_name": "Python 3 (ipykernel)",
   "language": "python",
   "name": "python3"
  },
  "language_info": {
   "codemirror_mode": {
    "name": "ipython",
    "version": 3
   },
   "file_extension": ".py",
   "mimetype": "text/x-python",
   "name": "python",
   "nbconvert_exporter": "python",
   "pygments_lexer": "ipython3",
   "version": "3.8.2"
  }
 },
 "nbformat": 4,
 "nbformat_minor": 5
}
